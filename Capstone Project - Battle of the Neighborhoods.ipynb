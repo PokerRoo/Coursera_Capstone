{
    "nbformat_minor": 1, 
    "cells": [
        {
            "source": "# Finding the Best Location For A Family Run Business\n\n## Introduction\n\nMy parents have always wanted to start their own business.  Specically a boutique coffee shop, and as they're not getting any younger they wish to start something sooner rather than later.  For this Capstone, I have decided to try and find the optimal neighborhood for them to setup shop.  It will need to be in Toronto since that's where they live.  As empty nesters they decided to dump their house and use what should have been my inheritance (I'm not bitter) to buy a condo dowtown Toronto and use what's left to seed their coffee shop business in a nearby Toronto neighborhood.  So needless to say, I have a vested interest in the business being sucessful.\n\n## How Are We Gonna Do It?\nThe idea is to use a subset of venues provided by the FourSquare API and do some cluster analysis to find a location that is relatively low in other coffee shops and high relativity to venues that will attract customers, as mentioned on the website CoffeShopStartups.  The data we're going to use for great locations listed here: https://coffeeshopstartups.com/10-great-locations-to-start-your-coffee-shop-business/.  We will attempt as part of the discovery to map the ideal places on the website to location listed in FourSquare data pull for the potential neighbourhoods to be scouted listed below.\n\nUsing the data from FourSquare (filtered and transformed) for the core Toronto area neighbourhods. So effectively limited to:\n- Downtown Toronto\n- East Toronto\n- West Toronto\n- Central Toronto\n\nWe will figure out optimal K in K-Means clustering to identify the area(s) my parents should look into setting up shop within the core Toronto area near to where they live.  Using optimal k for the clusters we will evaluate the venues visually, in tables, to decide where may be the best places to start looking at real estate as the next step provided the data is able to provide a good location.", 
            "cell_type": "markdown", 
            "metadata": {
                "collapsed": true
            }
        }, 
        {
            "execution_count": null, 
            "cell_type": "code", 
            "metadata": {}, 
            "outputs": [], 
            "source": ""
        }
    ], 
    "metadata": {
        "kernelspec": {
            "display_name": "Python 3.5", 
            "name": "python3", 
            "language": "python"
        }, 
        "language_info": {
            "mimetype": "text/x-python", 
            "nbconvert_exporter": "python", 
            "version": "3.5.5", 
            "name": "python", 
            "file_extension": ".py", 
            "pygments_lexer": "ipython3", 
            "codemirror_mode": {
                "version": 3, 
                "name": "ipython"
            }
        }
    }, 
    "nbformat": 4
}